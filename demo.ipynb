{
 "cells": [
  {
   "cell_type": "markdown",
   "metadata": {},
   "source": [
    "### Creating a simple json configuration"
   ]
  },
  {
   "cell_type": "code",
   "execution_count": 5,
   "metadata": {},
   "outputs": [],
   "source": [
    "import json\n",
    "import os"
   ]
  },
  {
   "cell_type": "markdown",
   "metadata": {},
   "source": [
    "### Format for the config file\n",
    "* Parameters : dictionary of parameters\n",
    "* script_path, script : anything that can be executed in a shell (e.g. '/home/you' 'ls')\n",
    "* batchsize : max nr of concurrent processes"
   ]
  },
  {
   "cell_type": "code",
   "execution_count": 6,
   "metadata": {},
   "outputs": [],
   "source": [
    "data = {}\n",
    "data['parameters'] = {}\n",
    "data['script_path'] = '.'\n",
    "data['script'] = 'test.sh'\n",
    "data['batchsize'] = 4"
   ]
  },
  {
   "cell_type": "markdown",
   "metadata": {},
   "source": [
    "### Example for parameters"
   ]
  },
  {
   "cell_type": "code",
   "execution_count": 7,
   "metadata": {},
   "outputs": [],
   "source": [
    "data['parameters'] = {'param_1': [1,3], 'param_2' : ['a', 'b'], 'param_3' : [i for i in range(3)]}"
   ]
  },
  {
   "cell_type": "markdown",
   "metadata": {},
   "source": [
    "### Write the config file"
   ]
  },
  {
   "cell_type": "code",
   "execution_count": 8,
   "metadata": {},
   "outputs": [],
   "source": [
    "filename = 'config.json'\n",
    "path = '.'\n",
    "with open(os.path.join(path, filename), 'w') as outfile:\n",
    "    json.dump(data, outfile)"
   ]
  },
  {
   "cell_type": "markdown",
   "metadata": {},
   "source": [
    "### Read config file back in"
   ]
  },
  {
   "cell_type": "code",
   "execution_count": 9,
   "metadata": {},
   "outputs": [],
   "source": [
    "rd = None\n",
    "with open(os.path.join(path, filename), 'r') as f:\n",
    "    rd = json.load(f)"
   ]
  },
  {
   "cell_type": "code",
   "execution_count": 10,
   "metadata": {},
   "outputs": [
    {
     "data": {
      "text/plain": [
       "{'batchsize': 4,\n",
       " 'parameters': {'param_1': [1, 3],\n",
       "  'param_2': ['a', 'b'],\n",
       "  'param_3': [0, 1, 2]},\n",
       " 'script': 'test.sh',\n",
       " 'script_path': '.'}"
      ]
     },
     "execution_count": 10,
     "metadata": {},
     "output_type": "execute_result"
    }
   ],
   "source": [
    "rd"
   ]
  }
 ],
 "metadata": {
  "@webio": {
   "lastCommId": "dd09e30b980542cb8ba3e408b690ce28",
   "lastKernelId": "a4c91cd5-70b1-497c-a8be-5d79cf57c29e"
  },
  "kernelspec": {
   "display_name": "Python 3",
   "language": "python",
   "name": "python3"
  },
  "language_info": {
   "codemirror_mode": {
    "name": "ipython",
    "version": 3
   },
   "file_extension": ".py",
   "mimetype": "text/x-python",
   "name": "python",
   "nbconvert_exporter": "python",
   "pygments_lexer": "ipython3",
   "version": "3.6.6"
  }
 },
 "nbformat": 4,
 "nbformat_minor": 2
}
